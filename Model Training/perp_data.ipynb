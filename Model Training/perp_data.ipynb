{
 "cells": [
  {
   "cell_type": "code",
   "execution_count": null,
   "metadata": {},
   "outputs": [],
   "source": [
    "import pandas as pd"
   ]
  },
  {
   "cell_type": "code",
   "execution_count": null,
   "metadata": {},
   "outputs": [],
   "source": [
    "reviews = pd.read_json(\"LABELLED_REVIEWS.jsonl\", lines=True)\n",
    "reviews"
   ]
  },
  {
   "cell_type": "code",
   "execution_count": null,
   "metadata": {},
   "outputs": [],
   "source": [
    "fineTune_Data = {}\n",
    "\n",
    "for index, row in reviews.iterrows():\n",
    "    message = f\"For the following review: {row['text']} , extract any of these labels in the review:  Content and Media Issues, Crashing Issues, UI / Design Issues, Performance Issues, Functionality Issues, User Experience Issues, Developer Related Issues, Security Related Issues. return the start and end index of the label in the review.\"\n",
    "    fineTune_Data[index] = {\"messages\": [{\"role\": \"user\", \"content\": message}, {\"role\": \"assistant\", \"content\": str(row[\"label\"])}]}"
   ]
  },
  {
   "cell_type": "code",
   "execution_count": null,
   "metadata": {},
   "outputs": [],
   "source": [
    "df = pd.DataFrame.from_dict(fineTune_Data, orient='index')\n",
    "# 70, 30 split\n",
    "train = df.sample(frac=0.7, random_state=200)\n",
    "test = df.drop(train.index)\n",
    "train.to_json(\"gpt_train.jsonl\", orient=\"records\", lines=True)\n",
    "test.to_json(\"gpt_test.jsonl\", orient=\"records\", lines=True)"
   ]
  },
  {
   "cell_type": "code",
   "execution_count": null,
   "metadata": {},
   "outputs": [],
   "source": []
  }
 ],
 "metadata": {
  "kernelspec": {
   "display_name": "Python 3",
   "language": "python",
   "name": "python3"
  },
  "language_info": {
   "codemirror_mode": {
    "name": "ipython",
    "version": 3
   },
   "file_extension": ".py",
   "mimetype": "text/x-python",
   "name": "python",
   "nbconvert_exporter": "python",
   "pygments_lexer": "ipython3",
   "version": "3.10.11"
  }
 },
 "nbformat": 4,
 "nbformat_minor": 2
}
